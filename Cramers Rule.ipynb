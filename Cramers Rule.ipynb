{
 "cells": [
  {
   "cell_type": "code",
   "execution_count": 5,
   "id": "2c874a38",
   "metadata": {},
   "outputs": [],
   "source": [
    "import numpy as np"
   ]
  },
  {
   "cell_type": "code",
   "execution_count": 7,
   "id": "9ec3bbf2",
   "metadata": {},
   "outputs": [
    {
     "name": "stdout",
     "output_type": "stream",
     "text": [
      "[[ 3 -2 -1]\n",
      " [-4  7 -1]\n",
      " [ 2 -3  1]]\n",
      "[12  0  0]\n"
     ]
    }
   ],
   "source": [
    "A=np.array([[3,-2,-1],[-4,7,-1],[2,-3,1]])\n",
    "B=np.array([12,0,0])\n",
    "B=np.transpose(B)\n",
    "print(A)\n",
    "print(B)"
   ]
  },
  {
   "cell_type": "code",
   "execution_count": 10,
   "id": "10cf0302",
   "metadata": {},
   "outputs": [
    {
     "name": "stdout",
     "output_type": "stream",
     "text": [
      "[[ 0.4  0.5  0.9]\n",
      " [ 0.2  0.5  0.7]\n",
      " [-0.2  0.5  1.3]]\n"
     ]
    }
   ],
   "source": [
    "Ai=np.linalg.inv(A)\n",
    "print(Ai)"
   ]
  },
  {
   "cell_type": "code",
   "execution_count": 12,
   "id": "3372a981",
   "metadata": {},
   "outputs": [
    {
     "name": "stdout",
     "output_type": "stream",
     "text": [
      "[[ 4.8  0.   0. ]\n",
      " [ 2.4  0.   0. ]\n",
      " [-2.4  0.   0. ]]\n"
     ]
    }
   ],
   "source": [
    "X=Ai*B\n",
    "print(X)"
   ]
  },
  {
   "cell_type": "code",
   "execution_count": null,
   "id": "672c3f2f",
   "metadata": {},
   "outputs": [],
   "source": []
  }
 ],
 "metadata": {
  "kernelspec": {
   "display_name": "Python 3",
   "language": "python",
   "name": "python3"
  },
  "language_info": {
   "codemirror_mode": {
    "name": "ipython",
    "version": 3
   },
   "file_extension": ".py",
   "mimetype": "text/x-python",
   "name": "python",
   "nbconvert_exporter": "python",
   "pygments_lexer": "ipython3",
   "version": "3.9.2"
  }
 },
 "nbformat": 4,
 "nbformat_minor": 5
}
